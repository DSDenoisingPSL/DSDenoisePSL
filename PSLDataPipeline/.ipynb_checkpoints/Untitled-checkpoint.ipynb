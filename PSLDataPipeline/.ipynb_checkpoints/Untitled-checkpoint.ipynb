{
 "cells": [
  {
   "cell_type": "markdown",
   "metadata": {},
   "source": [
    "# Dependencies"
   ]
  },
  {
   "cell_type": "code",
   "execution_count": 27,
   "metadata": {
    "ExecuteTime": {
     "end_time": "2019-04-02T18:46:25.391342Z",
     "start_time": "2019-04-02T18:46:25.359341Z"
    }
   },
   "outputs": [
    {
     "name": "stderr",
     "output_type": "stream",
     "text": [
      "Der Befehl \"conda\" ist entweder falsch geschrieben oder\n",
      "konnte nicht gefunden werden.\n"
     ]
    }
   ],
   "source": [
    "!conda install pytorch torchvision cudatoolkit=9.0 -c pytorch"
   ]
  },
  {
   "cell_type": "code",
   "execution_count": 38,
   "metadata": {
    "ExecuteTime": {
     "end_time": "2019-04-02T18:52:33.442294Z",
     "start_time": "2019-04-02T18:52:33.418258Z"
    }
   },
   "outputs": [
    {
     "ename": "ValueError",
     "evalue": "The python kernel does not appear to be a conda environment.  Please use ``%pip install`` instead.",
     "output_type": "error",
     "traceback": [
      "\u001b[1;31m---------------------------------------------------------------------------\u001b[0m",
      "\u001b[1;31mValueError\u001b[0m                                Traceback (most recent call last)",
      "\u001b[1;32m<ipython-input-38-f034f3c23255>\u001b[0m in \u001b[0;36m<module>\u001b[1;34m\u001b[0m\n\u001b[1;32m----> 1\u001b[1;33m \u001b[0mget_ipython\u001b[0m\u001b[1;33m(\u001b[0m\u001b[1;33m)\u001b[0m\u001b[1;33m.\u001b[0m\u001b[0mrun_line_magic\u001b[0m\u001b[1;33m(\u001b[0m\u001b[1;34m'conda'\u001b[0m\u001b[1;33m,\u001b[0m \u001b[1;34m'create --psl python=3.7 -y'\u001b[0m\u001b[1;33m)\u001b[0m\u001b[1;33m\u001b[0m\u001b[1;33m\u001b[0m\u001b[0m\n\u001b[0m",
      "\u001b[1;32mc:\\users\\bkirsch\\appdata\\local\\programs\\python\\python37-32\\lib\\site-packages\\IPython\\core\\interactiveshell.py\u001b[0m in \u001b[0;36mrun_line_magic\u001b[1;34m(self, magic_name, line, _stack_depth)\u001b[0m\n\u001b[0;32m   2305\u001b[0m                 \u001b[0mkwargs\u001b[0m\u001b[1;33m[\u001b[0m\u001b[1;34m'local_ns'\u001b[0m\u001b[1;33m]\u001b[0m \u001b[1;33m=\u001b[0m \u001b[0msys\u001b[0m\u001b[1;33m.\u001b[0m\u001b[0m_getframe\u001b[0m\u001b[1;33m(\u001b[0m\u001b[0mstack_depth\u001b[0m\u001b[1;33m)\u001b[0m\u001b[1;33m.\u001b[0m\u001b[0mf_locals\u001b[0m\u001b[1;33m\u001b[0m\u001b[1;33m\u001b[0m\u001b[0m\n\u001b[0;32m   2306\u001b[0m             \u001b[1;32mwith\u001b[0m \u001b[0mself\u001b[0m\u001b[1;33m.\u001b[0m\u001b[0mbuiltin_trap\u001b[0m\u001b[1;33m:\u001b[0m\u001b[1;33m\u001b[0m\u001b[1;33m\u001b[0m\u001b[0m\n\u001b[1;32m-> 2307\u001b[1;33m                 \u001b[0mresult\u001b[0m \u001b[1;33m=\u001b[0m \u001b[0mfn\u001b[0m\u001b[1;33m(\u001b[0m\u001b[1;33m*\u001b[0m\u001b[0margs\u001b[0m\u001b[1;33m,\u001b[0m \u001b[1;33m**\u001b[0m\u001b[0mkwargs\u001b[0m\u001b[1;33m)\u001b[0m\u001b[1;33m\u001b[0m\u001b[1;33m\u001b[0m\u001b[0m\n\u001b[0m\u001b[0;32m   2308\u001b[0m             \u001b[1;32mreturn\u001b[0m \u001b[0mresult\u001b[0m\u001b[1;33m\u001b[0m\u001b[1;33m\u001b[0m\u001b[0m\n\u001b[0;32m   2309\u001b[0m \u001b[1;33m\u001b[0m\u001b[0m\n",
      "\u001b[1;32m<c:\\users\\bkirsch\\appdata\\local\\programs\\python\\python37-32\\lib\\site-packages\\decorator.py:decorator-gen-108>\u001b[0m in \u001b[0;36mconda\u001b[1;34m(self, line)\u001b[0m\n",
      "\u001b[1;32mc:\\users\\bkirsch\\appdata\\local\\programs\\python\\python37-32\\lib\\site-packages\\IPython\\core\\magic.py\u001b[0m in \u001b[0;36m<lambda>\u001b[1;34m(f, *a, **k)\u001b[0m\n\u001b[0;32m    185\u001b[0m     \u001b[1;31m# but it's overkill for just that one bit of state.\u001b[0m\u001b[1;33m\u001b[0m\u001b[1;33m\u001b[0m\u001b[1;33m\u001b[0m\u001b[0m\n\u001b[0;32m    186\u001b[0m     \u001b[1;32mdef\u001b[0m \u001b[0mmagic_deco\u001b[0m\u001b[1;33m(\u001b[0m\u001b[0marg\u001b[0m\u001b[1;33m)\u001b[0m\u001b[1;33m:\u001b[0m\u001b[1;33m\u001b[0m\u001b[1;33m\u001b[0m\u001b[0m\n\u001b[1;32m--> 187\u001b[1;33m         \u001b[0mcall\u001b[0m \u001b[1;33m=\u001b[0m \u001b[1;32mlambda\u001b[0m \u001b[0mf\u001b[0m\u001b[1;33m,\u001b[0m \u001b[1;33m*\u001b[0m\u001b[0ma\u001b[0m\u001b[1;33m,\u001b[0m \u001b[1;33m**\u001b[0m\u001b[0mk\u001b[0m\u001b[1;33m:\u001b[0m \u001b[0mf\u001b[0m\u001b[1;33m(\u001b[0m\u001b[1;33m*\u001b[0m\u001b[0ma\u001b[0m\u001b[1;33m,\u001b[0m \u001b[1;33m**\u001b[0m\u001b[0mk\u001b[0m\u001b[1;33m)\u001b[0m\u001b[1;33m\u001b[0m\u001b[1;33m\u001b[0m\u001b[0m\n\u001b[0m\u001b[0;32m    188\u001b[0m \u001b[1;33m\u001b[0m\u001b[0m\n\u001b[0;32m    189\u001b[0m         \u001b[1;32mif\u001b[0m \u001b[0mcallable\u001b[0m\u001b[1;33m(\u001b[0m\u001b[0marg\u001b[0m\u001b[1;33m)\u001b[0m\u001b[1;33m:\u001b[0m\u001b[1;33m\u001b[0m\u001b[1;33m\u001b[0m\u001b[0m\n",
      "\u001b[1;32mc:\\users\\bkirsch\\appdata\\local\\programs\\python\\python37-32\\lib\\site-packages\\IPython\\core\\magics\\packaging.py\u001b[0m in \u001b[0;36mconda\u001b[1;34m(self, line)\u001b[0m\n\u001b[0;32m     78\u001b[0m         \"\"\"\n\u001b[0;32m     79\u001b[0m         \u001b[1;32mif\u001b[0m \u001b[1;32mnot\u001b[0m \u001b[0m_is_conda_environment\u001b[0m\u001b[1;33m(\u001b[0m\u001b[1;33m)\u001b[0m\u001b[1;33m:\u001b[0m\u001b[1;33m\u001b[0m\u001b[1;33m\u001b[0m\u001b[0m\n\u001b[1;32m---> 80\u001b[1;33m             raise ValueError(\"The python kernel does not appear to be a conda environment.  \"\n\u001b[0m\u001b[0;32m     81\u001b[0m                              \"Please use ``%pip install`` instead.\")\n\u001b[0;32m     82\u001b[0m \u001b[1;33m\u001b[0m\u001b[0m\n",
      "\u001b[1;31mValueError\u001b[0m: The python kernel does not appear to be a conda environment.  Please use ``%pip install`` instead."
     ]
    }
   ],
   "source": [
    "conda create --psl python=3.7 -y"
   ]
  },
  {
   "cell_type": "code",
   "execution_count": 31,
   "metadata": {
    "ExecuteTime": {
     "end_time": "2019-04-02T18:50:08.111589Z",
     "start_time": "2019-04-02T18:50:05.504530Z"
    }
   },
   "outputs": [
    {
     "name": "stderr",
     "output_type": "stream",
     "text": [
      "torch-1.0.1-cp37-cp37m-win_amd64.whl is not a supported wheel on this platform.\n"
     ]
    },
    {
     "name": "stdout",
     "output_type": "stream",
     "text": [
      "Collecting torchvision\n",
      "  Using cached https://files.pythonhosted.org/packages/fb/01/03fd7e503c16b3dc262483e5555ad40974ab5da8b9879e164b56c1f4ef6f/torchvision-0.2.2.post3-py2.py3-none-any.whl\n",
      "Requirement already satisfied: numpy in c:\\users\\bkirsch\\appdata\\local\\programs\\python\\python37-32\\lib\\site-packages (from torchvision) (1.16.2)\n",
      "Collecting torch (from torchvision)\n",
      "  Using cached https://files.pythonhosted.org/packages/5f/e9/bac4204fe9cb1a002ec6140b47f51affda1655379fe302a1caef421f9846/torch-0.1.2.post1.tar.gz\n",
      "    Complete output from command python setup.py egg_info:\n",
      "    Traceback (most recent call last):\n",
      "      File \"<string>\", line 1, in <module>\n",
      "      File \"C:\\Users\\bkirsch\\AppData\\Local\\Temp\\pip-install-dlub50vo\\torch\\setup.py\", line 11, in <module>\n",
      "        raise RuntimeError(README)\n",
      "    RuntimeError: PyTorch does not currently provide packages for PyPI (see status at https://github.com/pytorch/pytorch/issues/566).\n",
      "    \n",
      "    Please follow the instructions at http://pytorch.org/ to install with miniconda instead.\n",
      "    \n",
      "    \n",
      "    ----------------------------------------\n"
     ]
    },
    {
     "name": "stderr",
     "output_type": "stream",
     "text": [
      "Command \"python setup.py egg_info\" failed with error code 1 in C:\\Users\\bkirsch\\AppData\\Local\\Temp\\pip-install-dlub50vo\\torch\\\n"
     ]
    }
   ],
   "source": [
    "!pip3 install https://download.pytorch.org/whl/cu90/torch-1.0.1-cp37-cp37m-win_amd64.whl\n",
    "!pip3 install torchvision"
   ]
  },
  {
   "cell_type": "code",
   "execution_count": 25,
   "metadata": {
    "ExecuteTime": {
     "end_time": "2019-04-02T18:42:35.544740Z",
     "start_time": "2019-04-02T18:42:20.839630Z"
    },
    "scrolled": true
   },
   "outputs": [
    {
     "name": "stdout",
     "output_type": "stream",
     "text": [
      "Collecting annoy\n",
      "  Using cached https://files.pythonhosted.org/packages/9c/bf/8e3f7051d694afc086184d223e892d0fc18aca1e4147042d0521a6adedb5/annoy-1.15.1.tar.gz\n",
      "Installing collected packages: annoy\n",
      "  Running setup.py install for annoy: started\n",
      "    Running setup.py install for annoy: finished with status 'error'\n",
      "    Complete output from command c:\\users\\bkirsch\\appdata\\local\\programs\\python\\python37-32\\python.exe -u -c \"import setuptools, tokenize;__file__='C:\\\\Users\\\\bkirsch\\\\AppData\\\\Local\\\\Temp\\\\pip-install-i8w55cv7\\\\annoy\\\\setup.py';f=getattr(tokenize, 'open', open)(__file__);code=f.read().replace('\\r\\n', '\\n');f.close();exec(compile(code, __file__, 'exec'))\" install --record C:\\Users\\bkirsch\\AppData\\Local\\Temp\\pip-record-kj9eo1fs\\install-record.txt --single-version-externally-managed --compile:\n",
      "    running install\n",
      "    running build\n",
      "    running build_py\n",
      "    creating build\n",
      "    creating build\\lib.win32-3.7\n",
      "    creating build\\lib.win32-3.7\\annoy\n",
      "    copying annoy\\__init__.py -> build\\lib.win32-3.7\\annoy\n",
      "    running build_ext\n",
      "    building 'annoy.annoylib' extension\n",
      "    creating build\\temp.win32-3.7\n",
      "    creating build\\temp.win32-3.7\\Release\n",
      "    creating build\\temp.win32-3.7\\Release\\src\n",
      "    C:\\Program Files (x86)\\Microsoft Visual Studio 14.0\\VC\\BIN\\cl.exe /c /nologo /Ox /W3 /GL /DNDEBUG /MD -Ic:\\users\\bkirsch\\appdata\\local\\programs\\python\\python37-32\\include -Ic:\\users\\bkirsch\\appdata\\local\\programs\\python\\python37-32\\include \"-IC:\\Program Files (x86)\\Microsoft Visual Studio 14.0\\VC\\INCLUDE\" \"-IC:\\Program Files (x86)\\Windows Kits\\10\\include\\10.0.10240.0\\ucrt\" \"-IC:\\Program Files (x86)\\Windows Kits\\8.1\\include\\shared\" \"-IC:\\Program Files (x86)\\Windows Kits\\8.1\\include\\um\" \"-IC:\\Program Files (x86)\\Windows Kits\\8.1\\include\\winrt\" /EHsc /Tpsrc/annoymodule.cc /Fobuild\\temp.win32-3.7\\Release\\src/annoymodule.obj\n",
      "    annoymodule.cc\n",
      "    src/annoymodule.cc(59): warning C4244: '=': conversion from 'uint64_t' to 'float', possible loss of data\n",
      "    src/annoymodule.cc(74): warning C4244: 'return': conversion from 'uint64_t' to 'float', possible loss of data\n",
      "    src/annoymodule.cc(287): warning C4244: '=': conversion from 'double' to 'float', possible loss of data\n",
      "    src/annoymodule.cc(274): warning C4996: '_snprintf': This function or variable may be unsafe. Consider using _snprintf_s instead. To disable deprecation, use _CRT_SECURE_NO_WARNINGS. See online help for details.\n",
      "    C:\\Program Files (x86)\\Windows Kits\\10\\include\\10.0.10240.0\\ucrt\\stdio.h(1952): note: see declaration of '_snprintf'\n",
      "    src/annoymodule.cc(280): warning C4996: '_snprintf': This function or variable may be unsafe. Consider using _snprintf_s instead. To disable deprecation, use _CRT_SECURE_NO_WARNINGS. See online help for details.\n",
      "    C:\\Program Files (x86)\\Windows Kits\\10\\include\\10.0.10240.0\\ucrt\\stdio.h(1952): note: see declaration of '_snprintf'\n",
      "    src/annoymodule.cc(470): warning C4800: 'int': forcing value to bool 'true' or 'false' (performance warning)\n",
      "    c:\\users\\bkirsch\\appdata\\local\\temp\\pip-install-i8w55cv7\\annoy\\src\\annoylib.h(921): warning C4996: 'open': The POSIX name for this item is deprecated. Instead, use the ISO C and C++ conformant name: _open. See online help for details.\n",
      "    C:\\Program Files (x86)\\Windows Kits\\10\\include\\10.0.10240.0\\ucrt\\corecrt_io.h(514): note: see declaration of 'open'\n",
      "    c:\\users\\bkirsch\\appdata\\local\\temp\\pip-install-i8w55cv7\\annoy\\src\\annoylib.h(920): note: while compiling class template member function 'bool AnnoyIndex<int32_t,float,DotProduct,Kiss64Random>::load(const char *,bool)'\n",
      "    src/annoymodule.cc(135): note: see reference to class template instantiation 'AnnoyIndex<int32_t,float,DotProduct,Kiss64Random>' being compiled\n",
      "    c:\\users\\bkirsch\\appdata\\local\\temp\\pip-install-i8w55cv7\\annoy\\src\\annoylib.h(926): warning C4996: 'lseek': The POSIX name for this item is deprecated. Instead, use the ISO C and C++ conformant name: _lseek. See online help for details.\n",
      "    C:\\Program Files (x86)\\Windows Kits\\10\\include\\10.0.10240.0\\ucrt\\corecrt_io.h(501): note: see declaration of 'lseek'\n",
      "    c:\\users\\bkirsch\\appdata\\local\\temp\\pip-install-i8w55cv7\\annoy\\src\\annoylib.h(904): warning C4996: 'close': The POSIX name for this item is deprecated. Instead, use the ISO C and C++ conformant name: _close. See online help for details.\n",
      "    C:\\Program Files (x86)\\Windows Kits\\10\\include\\10.0.10240.0\\ucrt\\corecrt_io.h(457): note: see declaration of 'close'\n",
      "    c:\\users\\bkirsch\\appdata\\local\\temp\\pip-install-i8w55cv7\\annoy\\src\\annoylib.h(902): note: while compiling class template member function 'void AnnoyIndex<int32_t,float,DotProduct,Kiss64Random>::unload(void)'\n",
      "    c:\\users\\bkirsch\\appdata\\local\\temp\\pip-install-i8w55cv7\\annoy\\src\\annoylib.h(909): warning C4996: 'close': The POSIX name for this item is deprecated. Instead, use the ISO C and C++ conformant name: _close. See online help for details.\n",
      "    C:\\Program Files (x86)\\Windows Kits\\10\\include\\10.0.10240.0\\ucrt\\corecrt_io.h(457): note: see declaration of 'close'\n",
      "    c:\\users\\bkirsch\\appdata\\local\\temp\\pip-install-i8w55cv7\\annoy\\src\\annoylib.h(877): warning C4996: 'unlink': The POSIX name for this item is deprecated. Instead, use the ISO C and C++ conformant name: _unlink. See online help for details.\n",
      "    C:\\Program Files (x86)\\Windows Kits\\10\\include\\10.0.10240.0\\ucrt\\stdio.h(380): note: see declaration of 'unlink'\n",
      "    c:\\users\\bkirsch\\appdata\\local\\temp\\pip-install-i8w55cv7\\annoy\\src\\annoylib.h(872): note: while compiling class template member function 'bool AnnoyIndex<int32_t,float,DotProduct,Kiss64Random>::save(const char *,bool)'\n",
      "    c:\\users\\bkirsch\\appdata\\local\\temp\\pip-install-i8w55cv7\\annoy\\src\\annoylib.h(879): warning C4996: 'fopen': This function or variable may be unsafe. Consider using fopen_s instead. To disable deprecation, use _CRT_SECURE_NO_WARNINGS. See online help for details.\n",
      "    C:\\Program Files (x86)\\Windows Kits\\10\\include\\10.0.10240.0\\ucrt\\stdio.h(205): note: see declaration of 'fopen'\n",
      "    c:\\users\\bkirsch\\appdata\\local\\temp\\pip-install-i8w55cv7\\annoy\\src\\annoylib.h(805): warning C4996: 'open': The POSIX name for this item is deprecated. Instead, use the ISO C and C++ conformant name: _open. See online help for details.\n",
      "    C:\\Program Files (x86)\\Windows Kits\\10\\include\\10.0.10240.0\\ucrt\\corecrt_io.h(514): note: see declaration of 'open'\n",
      "    c:\\users\\bkirsch\\appdata\\local\\temp\\pip-install-i8w55cv7\\annoy\\src\\annoylib.h(803): note: while compiling class template member function 'bool AnnoyIndex<int32_t,float,DotProduct,Kiss64Random>::on_disk_build(const char *)'\n",
      "    c:\\users\\bkirsch\\appdata\\local\\temp\\pip-install-i8w55cv7\\annoy\\src\\annoylib.h(1077): warning C4244: '=': conversion from 'double' to 'uint64_t', possible loss of data\n",
      "    c:\\users\\bkirsch\\appdata\\local\\temp\\pip-install-i8w55cv7\\annoy\\src\\annoylib.h(1017): note: while compiling class template member function 'int32_t AnnoyIndex<int32_t,uint64_t,Hamming,Kiss64Random>::_make_tree(const std::vector<S,std::allocator<_Ty>> &,bool)'\n",
      "            with\n",
      "            [\n",
      "                S=int32_t,\n",
      "                _Ty=int32_t\n",
      "            ]\n",
      "    c:\\users\\bkirsch\\appdata\\local\\temp\\pip-install-i8w55cv7\\annoy\\src\\annoylib.h(843): note: see reference to function template instantiation 'int32_t AnnoyIndex<int32_t,uint64_t,Hamming,Kiss64Random>::_make_tree(const std::vector<S,std::allocator<_Ty>> &,bool)' being compiled\n",
      "            with\n",
      "            [\n",
      "                S=int32_t,\n",
      "                _Ty=int32_t\n",
      "            ]\n",
      "    c:\\users\\bkirsch\\appdata\\local\\temp\\pip-install-i8w55cv7\\annoy\\src\\annoylib.h(354): warning C4244: 'return': conversion from 'double' to 'float', possible loss of data\n",
      "    c:\\users\\bkirsch\\appdata\\local\\temp\\pip-install-i8w55cv7\\annoy\\src\\annoylib.h(960): note: see reference to function template instantiation 'T Angular::distance<S,T>(const Angular::Node<S,T> *,const Angular::Node<S,T> *,int)' being compiled\n",
      "            with\n",
      "            [\n",
      "                T=float,\n",
      "                S=int32_t\n",
      "            ]\n",
      "    c:\\users\\bkirsch\\appdata\\local\\temp\\pip-install-i8w55cv7\\annoy\\src\\annoylib.h(959): note: while compiling class template member function 'float AnnoyIndex<int32_t,float,Angular,Kiss64Random>::get_distance(S,S) const'\n",
      "            with\n",
      "            [\n",
      "                S=int32_t\n",
      "            ]\n",
      "    c:\\users\\bkirsch\\appdata\\local\\temp\\pip-install-i8w55cv7\\annoy\\src\\annoylib.h(555): error C3861: '__popcnt64': identifier not found\n",
      "    c:\\users\\bkirsch\\appdata\\local\\temp\\pip-install-i8w55cv7\\annoy\\src\\annoylib.h(960): note: see reference to function template instantiation 'T Hamming::distance<S,T>(const Hamming::Node<S,T> *,const Hamming::Node<S,T> *,int)' being compiled\n",
      "            with\n",
      "            [\n",
      "                T=uint64_t,\n",
      "                S=int32_t\n",
      "            ]\n",
      "    c:\\users\\bkirsch\\appdata\\local\\temp\\pip-install-i8w55cv7\\annoy\\src\\annoylib.h(959): note: while compiling class template member function 'uint64_t AnnoyIndex<int32_t,uint64_t,Hamming,Kiss64Random>::get_distance(S,S) const'\n",
      "            with\n",
      "            [\n",
      "                S=int32_t\n",
      "            ]\n",
      "    src/annoymodule.cc(74): note: see reference to function template instantiation 'uint64_t AnnoyIndex<int32_t,uint64_t,Hamming,Kiss64Random>::get_distance(S,S) const' being compiled\n",
      "            with\n",
      "            [\n",
      "                S=int32_t\n",
      "            ]\n",
      "    c:\\users\\bkirsch\\appdata\\local\\temp\\pip-install-i8w55cv7\\annoy\\src\\annoylib.h(478): warning C4800: 'int': forcing value to bool 'true' or 'false' (performance warning)\n",
      "    c:\\users\\bkirsch\\appdata\\local\\temp\\pip-install-i8w55cv7\\annoy\\src\\annoylib.h(1057): note: see reference to function template instantiation 'bool DotProduct::side<S,T,Random>(const DotProduct::Node<S,T> *,const T *,int,Random &)' being compiled\n",
      "            with\n",
      "            [\n",
      "                S=int32_t,\n",
      "                T=float,\n",
      "                Random=Kiss64Random\n",
      "            ]\n",
      "    c:\\users\\bkirsch\\appdata\\local\\temp\\pip-install-i8w55cv7\\annoy\\src\\annoylib.h(1017): note: while compiling class template member function 'int32_t AnnoyIndex<int32_t,float,DotProduct,Kiss64Random>::_make_tree(const std::vector<S,std::allocator<_Ty>> &,bool)'\n",
      "            with\n",
      "            [\n",
      "                S=int32_t,\n",
      "                _Ty=int32_t\n",
      "            ]\n",
      "    c:\\users\\bkirsch\\appdata\\local\\temp\\pip-install-i8w55cv7\\annoy\\src\\annoylib.h(843): note: see reference to function template instantiation 'int32_t AnnoyIndex<int32_t,float,DotProduct,Kiss64Random>::_make_tree(const std::vector<S,std::allocator<_Ty>> &,bool)' being compiled\n",
      "            with\n",
      "            [\n",
      "                S=int32_t,\n",
      "                _Ty=int32_t\n",
      "            ]\n",
      "    c:\\users\\bkirsch\\appdata\\local\\temp\\pip-install-i8w55cv7\\annoy\\src\\annoylib.h(635): warning C4800: 'int': forcing value to bool 'true' or 'false' (performance warning)\n",
      "    c:\\users\\bkirsch\\appdata\\local\\temp\\pip-install-i8w55cv7\\annoy\\src\\annoylib.h(1057): note: see reference to function template instantiation 'bool Minkowski::side<S,T,Random>(const Minkowski::Node<S,T> *,const T *,int,Random &)' being compiled\n",
      "            with\n",
      "            [\n",
      "                S=int32_t,\n",
      "                T=float,\n",
      "                Random=Kiss64Random\n",
      "            ]\n",
      "    c:\\users\\bkirsch\\appdata\\local\\temp\\pip-install-i8w55cv7\\annoy\\src\\annoylib.h(1017): note: while compiling class template member function 'int32_t AnnoyIndex<int32_t,float,Manhattan,Kiss64Random>::_make_tree(const std::vector<S,std::allocator<_Ty>> &,bool)'\n",
      "            with\n",
      "            [\n",
      "                S=int32_t,\n",
      "                _Ty=int32_t\n",
      "            ]\n",
      "    c:\\users\\bkirsch\\appdata\\local\\temp\\pip-install-i8w55cv7\\annoy\\src\\annoylib.h(843): note: see reference to function template instantiation 'int32_t AnnoyIndex<int32_t,float,Manhattan,Kiss64Random>::_make_tree(const std::vector<S,std::allocator<_Ty>> &,bool)' being compiled\n",
      "            with\n",
      "            [\n",
      "                S=int32_t,\n",
      "                _Ty=int32_t\n",
      "            ]\n",
      "    c:\\users\\bkirsch\\appdata\\local\\temp\\pip-install-i8w55cv7\\annoy\\src\\annoylib.h(367): warning C4800: 'int': forcing value to bool 'true' or 'false' (performance warning)\n",
      "    c:\\users\\bkirsch\\appdata\\local\\temp\\pip-install-i8w55cv7\\annoy\\src\\annoylib.h(1057): note: see reference to function template instantiation 'bool Angular::side<S,T,Random>(const Angular::Node<S,T> *,const T *,int,Random &)' being compiled\n",
      "            with\n",
      "            [\n",
      "                S=int32_t,\n",
      "                T=float,\n",
      "                Random=Kiss64Random\n",
      "            ]\n",
      "    c:\\users\\bkirsch\\appdata\\local\\temp\\pip-install-i8w55cv7\\annoy\\src\\annoylib.h(1017): note: while compiling class template member function 'int32_t AnnoyIndex<int32_t,float,Angular,Kiss64Random>::_make_tree(const std::vector<S,std::allocator<_Ty>> &,bool)'\n",
      "            with\n",
      "            [\n",
      "                S=int32_t,\n",
      "                _Ty=int32_t\n",
      "            ]\n",
      "    c:\\users\\bkirsch\\appdata\\local\\temp\\pip-install-i8w55cv7\\annoy\\src\\annoylib.h(843): note: see reference to function template instantiation 'int32_t AnnoyIndex<int32_t,float,Angular,Kiss64Random>::_make_tree(const std::vector<S,std::allocator<_Ty>> &,bool)' being compiled\n",
      "            with\n",
      "            [\n",
      "                S=int32_t,\n",
      "                _Ty=int32_t\n",
      "            ]\n",
      "    error: command 'C:\\\\Program Files (x86)\\\\Microsoft Visual Studio 14.0\\\\VC\\\\BIN\\\\cl.exe' failed with exit status 2\n",
      "    \n",
      "    ----------------------------------------\n"
     ]
    },
    {
     "name": "stderr",
     "output_type": "stream",
     "text": [
      "pymagnitude 0.1.120 requires h5py>=2.8.0, which is not installed.\n",
      "pymagnitude 0.1.120 requires torch, which is not installed.\n",
      "Command \"c:\\users\\bkirsch\\appdata\\local\\programs\\python\\python37-32\\python.exe -u -c \"import setuptools, tokenize;__file__='C:\\\\Users\\\\bkirsch\\\\AppData\\\\Local\\\\Temp\\\\pip-install-i8w55cv7\\\\annoy\\\\setup.py';f=getattr(tokenize, 'open', open)(__file__);code=f.read().replace('\\r\\n', '\\n');f.close();exec(compile(code, __file__, 'exec'))\" install --record C:\\Users\\bkirsch\\AppData\\Local\\Temp\\pip-record-kj9eo1fs\\install-record.txt --single-version-externally-managed --compile\" failed with error code 1 in C:\\Users\\bkirsch\\AppData\\Local\\Temp\\pip-install-i8w55cv7\\annoy\\\n"
     ]
    },
    {
     "name": "stdout",
     "output_type": "stream",
     "text": [
      "Collecting h5py\n",
      "  Using cached https://files.pythonhosted.org/packages/e2/3e/76c3d0b25fee11ab73049475ca1833229fbf6e6a6bb56a8bab8f61e53df2/h5py-2.9.0-cp37-cp37m-win32.whl\n",
      "Requirement already satisfied: numpy>=1.7 in c:\\users\\bkirsch\\appdata\\local\\programs\\python\\python37-32\\lib\\site-packages (from h5py) (1.16.2)\n",
      "Requirement already satisfied: six in c:\\users\\bkirsch\\appdata\\local\\programs\\python\\python37-32\\lib\\site-packages (from h5py) (1.12.0)\n",
      "Installing collected packages: h5py\n",
      "Successfully installed h5py-2.9.0\n"
     ]
    },
    {
     "name": "stderr",
     "output_type": "stream",
     "text": [
      "pymagnitude 0.1.120 requires annoy>=1.11.4, which is not installed.\n",
      "pymagnitude 0.1.120 requires torch, which is not installed.\n"
     ]
    },
    {
     "name": "stdout",
     "output_type": "stream",
     "text": [
      "Collecting torch\n",
      "  Downloading https://files.pythonhosted.org/packages/5f/e9/bac4204fe9cb1a002ec6140b47f51affda1655379fe302a1caef421f9846/torch-0.1.2.post1.tar.gz\n",
      "    Complete output from command python setup.py egg_info:\n",
      "    Traceback (most recent call last):\n",
      "      File \"<string>\", line 1, in <module>\n",
      "      File \"C:\\Users\\bkirsch\\AppData\\Local\\Temp\\pip-install-vec_ejth\\torch\\setup.py\", line 11, in <module>\n",
      "        raise RuntimeError(README)\n",
      "    RuntimeError: PyTorch does not currently provide packages for PyPI (see status at https://github.com/pytorch/pytorch/issues/566).\n",
      "    \n",
      "    Please follow the instructions at http://pytorch.org/ to install with miniconda instead.\n",
      "    \n",
      "    \n",
      "    ----------------------------------------\n"
     ]
    },
    {
     "name": "stderr",
     "output_type": "stream",
     "text": [
      "Command \"python setup.py egg_info\" failed with error code 1 in C:\\Users\\bkirsch\\AppData\\Local\\Temp\\pip-install-vec_ejth\\torch\\\n"
     ]
    }
   ],
   "source": [
    "#!pip install pymagnitude\n",
    "#!pip install pyenchant\n",
    "#!pip install spacy\n",
    "#!pip install spacy_parser\n",
    "#!pip install nltk\n",
    "#!pip install pandas\n",
    "#!pip install networkx\n",
    "#!pip install lz4, \n",
    "!pip install annoy \n",
    "!pip install h5py\n",
    "!pip install torch"
   ]
  },
  {
   "cell_type": "markdown",
   "metadata": {},
   "source": [
    "# generate features"
   ]
  },
  {
   "cell_type": "code",
   "execution_count": 6,
   "metadata": {
    "ExecuteTime": {
     "end_time": "2019-04-02T18:25:22.597218Z",
     "start_time": "2019-04-02T18:25:22.581216Z"
    }
   },
   "outputs": [
    {
     "ename": "SyntaxError",
     "evalue": "invalid syntax (<ipython-input-6-51ade028da56>, line 14)",
     "output_type": "error",
     "traceback": [
      "\u001b[1;36m  File \u001b[1;32m\"<ipython-input-6-51ade028da56>\"\u001b[1;36m, line \u001b[1;32m14\u001b[0m\n\u001b[1;33m    python code/generatePSLPredicates.py $Data $inTestFile 'test'\u001b[0m\n\u001b[1;37m              ^\u001b[0m\n\u001b[1;31mSyntaxError\u001b[0m\u001b[1;31m:\u001b[0m invalid syntax\n"
     ]
    }
   ],
   "source": [
    "data=\"Google\" #NYT KBP\n",
    "print(data)\n",
    "\n",
    "inTestFile= f'./data/generated/{data}/test.json'\n",
    "inTrainFile=f'./data/generated/{data}/train.json'\n",
    "\n",
    "#\n",
    "!mkdir data/psl/$Data/test\n",
    "!mkdir data/psl/$Data/train\n",
    "!mkdir data/psl/$Data/dev\n",
    "\n",
    "\n",
    "# echo 'Training dataset. Generate PSL rules...'\n",
    "# python code/generatePSLPredicates.py $Data $inTrainFile 'train'\n",
    "# echo ' '\n",
    "\n",
    "\n",
    "# \n",
    "# echo 'Dev dataset. Generate PSL rules...'\n",
    "# python code/generatePSLPredicates.py $Data './data/generated/'$Data'/dev.json' 'dev'\n",
    "# echo ' '"
   ]
  },
  {
   "cell_type": "markdown",
   "metadata": {},
   "source": [
    "## generate input files for psl-test-set "
   ]
  },
  {
   "cell_type": "code",
   "execution_count": 23,
   "metadata": {
    "ExecuteTime": {
     "end_time": "2019-04-02T18:41:48.660091Z",
     "start_time": "2019-04-02T18:41:45.662077Z"
    },
    "scrolled": true
   },
   "outputs": [
    {
     "name": "stderr",
     "output_type": "stream",
     "text": [
      "Traceback (most recent call last):\n",
      "  File \"code/generatePSLPredicates.py\", line 15, in <module>\n",
      "    from pymagnitude import *\n",
      "  File \"C:\\Users\\bkirsch\\AppData\\Local\\Programs\\Python\\Python37-32\\lib\\site-packages\\pymagnitude\\__init__.py\", line 26, in <module>\n",
      "    from annoy import AnnoyIndex\n",
      "ModuleNotFoundError: No module named 'annoy'\n"
     ]
    }
   ],
   "source": [
    "#generate test input files for psl\n",
    "!python code/generatePSLPredicates.py 'Google' './data/generated/Google/test.json' 'test'\n"
   ]
  },
  {
   "cell_type": "code",
   "execution_count": null,
   "metadata": {},
   "outputs": [],
   "source": [
    "#generate training"
   ]
  },
  {
   "cell_type": "code",
   "execution_count": null,
   "metadata": {},
   "outputs": [],
   "source": [
    "%%bash -s data inTestFile\n",
    "python code/generatePSLPredicates.py $Data $inTestFile 'test'"
   ]
  }
 ],
 "metadata": {
  "kernelspec": {
   "display_name": "Python 3",
   "language": "python",
   "name": "python3"
  },
  "language_info": {
   "codemirror_mode": {
    "name": "ipython",
    "version": 3
   },
   "file_extension": ".py",
   "mimetype": "text/x-python",
   "name": "python",
   "nbconvert_exporter": "python",
   "pygments_lexer": "ipython3",
   "version": "3.7.3"
  },
  "toc": {
   "nav_menu": {},
   "number_sections": true,
   "sideBar": true,
   "skip_h1_title": false,
   "toc_cell": false,
   "toc_position": {},
   "toc_section_display": "block",
   "toc_window_display": false
  },
  "varInspector": {
   "cols": {
    "lenName": 16,
    "lenType": 16,
    "lenVar": 40
   },
   "kernels_config": {
    "python": {
     "delete_cmd_postfix": "",
     "delete_cmd_prefix": "del ",
     "library": "var_list.py",
     "varRefreshCmd": "print(var_dic_list())"
    },
    "r": {
     "delete_cmd_postfix": ") ",
     "delete_cmd_prefix": "rm(",
     "library": "var_list.r",
     "varRefreshCmd": "cat(var_dic_list()) "
    }
   },
   "types_to_exclude": [
    "module",
    "function",
    "builtin_function_or_method",
    "instance",
    "_Feature"
   ],
   "window_display": false
  }
 },
 "nbformat": 4,
 "nbformat_minor": 2
}
